{
 "cells": [
  {
   "cell_type": "markdown",
   "id": "794243c0",
   "metadata": {},
   "source": [
    "# Text Analytics Coursework -- Tasks 1.1 to 1.3\n",
    "\n",
    "# Instructions:\n",
    "\n",
    "This notebook is forms the first part of your coursework assignment for Text Analytics in Spring 2025. You will need to read the instructions below and complete numbered tasks indicated by \"TASK n\". To complete the tasks, you will write code or explanations between the comments \"#WRITE YOUR ANSWER HERE\" and \"#END OF ANSWER\". For example:\n",
    "\n",
    "TASK 0: Complete the function below to output \"hello world\". \n"
   ]
  },
  {
   "cell_type": "code",
   "execution_count": 1,
   "id": "5486ee90",
   "metadata": {},
   "outputs": [
    {
     "name": "stdout",
     "output_type": "stream",
     "text": [
      "hello world\n"
     ]
    }
   ],
   "source": [
    "def demo_fun():\n",
    "    # WRITE YOUR ANSWER HERE\n",
    "    print(\"hello world\")\n",
    "    # END OF ANSWER\n",
    "\n",
    "### DO NOT MODIFY\n",
    "demo_fun()\n",
    "###"
   ]
  },
  {
   "cell_type": "markdown",
   "id": "a422f8fe",
   "metadata": {},
   "source": [
    "There is also some code in the cell that should not be modified. This code saves your results to file in the correct format, which is necessary for us to be able to mark your answers. Before you submit your notebook, please make sure this code has not been modified, then restart your kernel, clear all cell outputs, run all of your code once again, then save the notebook. \n",
    "\n",
    "Please note:\n",
    "  * The notebook you upload must include all the saved cell output after running all cells.\n",
    "  * The notebook code must be complete so that it reproduces all your output when we run it. \n",
    "  * For this coursework, we recommend that you use your virtual environment that you created for the labs. The packages you need are: numpy, scipy, nltk, pytorch, transformers and datasets (from HuggingFace), pandas, matplotlib and scikit-learn. \n",
    "\n",
    "## Marking guidelines:\n",
    "1. This notebook is worth 32% of the marks for the Text Analytics assignment.\n",
    "1. The number of marks for each task is shown alongside the task.\n",
    "1. We will evaluate the output of your code after running it, and marks will be awarded based on how well the output matches the task's instructions. \n",
    "1. We will give partial marks for incomplete or partially correct answers. \n",
    "1. We do not give additional marks for code style or comments, but clear code will help us to understand what you have done so that we can award partial marks where necessary. \n",
    "1. Unless the task asks you to implement something from scratch, there is no penalty for using software libraries in your implementation.\n",
    "\n",
    "## Support:\n",
    "\n",
    "The main source of support will be during the lab sessions. The TAs and lecturers will help you with questions about the lectures, the code provided for you in this notebook, and general questions about the topics we cover. For the assessed tasks, they can only answer clarifying questions about what you have to do. Please email Edwin if you have any other queries edwin.simpson@bristol.ac.uk and/or post your query to the Teams channel for this unit.\n",
    "\n",
    "## Deadline:\n",
    "\n",
    "The notebook must be submitted along with the second notebook on Blackboard before **Monday 28th April at 13.00**. \n",
    "\n",
    "## Submission:\n",
    "\n",
    "For this part of the assignment, please zip up the folder containing this file and the 'outputs' directory, containing the output from this notebook as .csv files. Please name your notebook file like this:\n",
    "   * Name this notebook 'text_analytics_part1_\\<student number\\>.ipynb'. Replace '\\<student number\\>' with your student number, which consists only of digits beginning with '2'. \n",
    "   * We mark anonymously, so please don't include your name in the notebook.\n",
    "\n",
    "You can submit the file on Blackboard to the submission point \"Text Analytics Part 1 Notebook\". Remember that the assignment also has parts 2 and 3, described in the PDF file on Blackboard."
   ]
  },
  {
   "cell_type": "markdown",
   "id": "54ff04e2",
   "metadata": {},
   "source": [
    "# Setup: random seeds\n",
    "\n",
    "Each student will work with slightly different data splits and model weights, which will be determined by setting your 'random seed'. \n",
    "We will check that your results come from using your random seed. Please set the seed in the cell below by changing the value of 'my_student_number' to your own student number (not your username, the number you can see on eVision that contains only digits). \n",
    "\n",
    "Using the correct seed ensures that your results are reproducible when we rerun your notebook."
   ]
  },
  {
   "cell_type": "code",
   "execution_count": 2,
   "id": "7288915b-c75c-41e7-a2ef-678c3bf58c32",
   "metadata": {},
   "outputs": [
    {
     "name": "stdout",
     "output_type": "stream",
     "text": [
      "Requirement already satisfied: torch in c:\\users\\radha\\anaconda3\\lib\\site-packages (2.6.0)\n",
      "Requirement already satisfied: filelock in c:\\users\\radha\\anaconda3\\lib\\site-packages (from torch) (3.13.1)\n",
      "Requirement already satisfied: typing-extensions>=4.10.0 in c:\\users\\radha\\anaconda3\\lib\\site-packages (from torch) (4.11.0)\n",
      "Requirement already satisfied: networkx in c:\\users\\radha\\anaconda3\\lib\\site-packages (from torch) (3.2.1)\n",
      "Requirement already satisfied: jinja2 in c:\\users\\radha\\anaconda3\\lib\\site-packages (from torch) (3.1.4)\n",
      "Requirement already satisfied: fsspec in c:\\users\\radha\\anaconda3\\lib\\site-packages (from torch) (2024.3.1)\n",
      "Requirement already satisfied: setuptools in c:\\users\\radha\\anaconda3\\lib\\site-packages (from torch) (69.5.1)\n",
      "Requirement already satisfied: sympy==1.13.1 in c:\\users\\radha\\anaconda3\\lib\\site-packages (from torch) (1.13.1)\n",
      "Requirement already satisfied: mpmath<1.4,>=1.1.0 in c:\\users\\radha\\anaconda3\\lib\\site-packages (from sympy==1.13.1->torch) (1.3.0)\n",
      "Requirement already satisfied: MarkupSafe>=2.0 in c:\\users\\radha\\anaconda3\\lib\\site-packages (from jinja2->torch) (2.1.3)\n"
     ]
    }
   ],
   "source": [
    "!pip install torch"
   ]
  },
  {
   "cell_type": "code",
   "execution_count": 2,
   "id": "80bd735e",
   "metadata": {},
   "outputs": [],
   "source": [
    "import torch\n",
    "import random\n",
    "import numpy as np\n",
    "\n",
    "def set_seed(seed: int = 42):\n",
    "    random.seed(seed)  # Python's built-in random module\n",
    "    np.random.seed(seed)  # NumPy\n",
    "    torch.manual_seed(seed)  # PyTorch CPU\n",
    "    torch.cuda.manual_seed(seed)  # PyTorch GPU (if available)\n",
    "    torch.cuda.manual_seed_all(seed)  # Multi-GPU\n",
    "    torch.backends.cudnn.deterministic = True  # Ensure deterministic behavior\n",
    "    torch.backends.cudnn.benchmark = False  # Disable benchmark mode for reproducibility\n",
    "\n",
    "### SET YOUR SEED TO YOUR STUDENT NUMBER HERE\n",
    "my_student_number = 2662258\n",
    "set_seed(my_student_number)"
   ]
  },
  {
   "cell_type": "markdown",
   "id": "2877d086",
   "metadata": {},
   "source": [
    "# Setup: loading the data\n",
    "\n",
    "Let's make a folder to save the output of your work:"
   ]
  },
  {
   "cell_type": "code",
   "execution_count": 4,
   "id": "60bd9213",
   "metadata": {},
   "outputs": [],
   "source": [
    "import os\n",
    "import pandas as pd\n",
    "\n",
    "os.mkdir('./outputs6')"
   ]
  },
  {
   "cell_type": "markdown",
   "id": "f79fc2c4",
   "metadata": {},
   "source": [
    "Now, let's load some more packages we will need later:"
   ]
  },
  {
   "cell_type": "code",
   "execution_count": 5,
   "id": "b09d5d14-48e6-4d63-a9f6-3689f4e021dc",
   "metadata": {},
   "outputs": [
    {
     "name": "stdout",
     "output_type": "stream",
     "text": [
      "Requirement already satisfied: datasets in c:\\users\\radha\\anaconda3\\lib\\site-packages (3.5.0)\n",
      "Requirement already satisfied: filelock in c:\\users\\radha\\anaconda3\\lib\\site-packages (from datasets) (3.13.1)\n",
      "Requirement already satisfied: numpy>=1.17 in c:\\users\\radha\\anaconda3\\lib\\site-packages (from datasets) (1.26.4)\n",
      "Collecting pyarrow>=15.0.0 (from datasets)\n",
      "  Using cached pyarrow-20.0.0-cp312-cp312-win_amd64.whl.metadata (3.4 kB)\n",
      "Requirement already satisfied: dill<0.3.9,>=0.3.0 in c:\\users\\radha\\anaconda3\\lib\\site-packages (from datasets) (0.3.8)\n",
      "Requirement already satisfied: pandas in c:\\users\\radha\\anaconda3\\lib\\site-packages (from datasets) (2.2.2)\n",
      "Requirement already satisfied: requests>=2.32.2 in c:\\users\\radha\\anaconda3\\lib\\site-packages (from datasets) (2.32.2)\n",
      "Requirement already satisfied: tqdm>=4.66.3 in c:\\users\\radha\\anaconda3\\lib\\site-packages (from datasets) (4.66.4)\n",
      "Requirement already satisfied: xxhash in c:\\users\\radha\\anaconda3\\lib\\site-packages (from datasets) (3.5.0)\n",
      "Requirement already satisfied: multiprocess<0.70.17 in c:\\users\\radha\\anaconda3\\lib\\site-packages (from datasets) (0.70.16)\n",
      "Requirement already satisfied: fsspec<=2024.12.0,>=2023.1.0 in c:\\users\\radha\\anaconda3\\lib\\site-packages (from fsspec[http]<=2024.12.0,>=2023.1.0->datasets) (2024.3.1)\n",
      "Requirement already satisfied: aiohttp in c:\\users\\radha\\anaconda3\\lib\\site-packages (from datasets) (3.9.5)\n",
      "Requirement already satisfied: huggingface-hub>=0.24.0 in c:\\users\\radha\\anaconda3\\lib\\site-packages (from datasets) (0.30.2)\n",
      "Requirement already satisfied: packaging in c:\\users\\radha\\appdata\\roaming\\python\\python312\\site-packages (from datasets) (24.2)\n",
      "Requirement already satisfied: pyyaml>=5.1 in c:\\users\\radha\\anaconda3\\lib\\site-packages (from datasets) (6.0.1)\n",
      "Requirement already satisfied: aiosignal>=1.1.2 in c:\\users\\radha\\anaconda3\\lib\\site-packages (from aiohttp->datasets) (1.2.0)\n",
      "Requirement already satisfied: attrs>=17.3.0 in c:\\users\\radha\\anaconda3\\lib\\site-packages (from aiohttp->datasets) (23.1.0)\n",
      "Requirement already satisfied: frozenlist>=1.1.1 in c:\\users\\radha\\anaconda3\\lib\\site-packages (from aiohttp->datasets) (1.4.0)\n",
      "Requirement already satisfied: multidict<7.0,>=4.5 in c:\\users\\radha\\anaconda3\\lib\\site-packages (from aiohttp->datasets) (6.0.4)\n",
      "Requirement already satisfied: yarl<2.0,>=1.0 in c:\\users\\radha\\anaconda3\\lib\\site-packages (from aiohttp->datasets) (1.9.3)\n",
      "Requirement already satisfied: typing-extensions>=3.7.4.3 in c:\\users\\radha\\anaconda3\\lib\\site-packages (from huggingface-hub>=0.24.0->datasets) (4.11.0)\n",
      "Requirement already satisfied: charset-normalizer<4,>=2 in c:\\users\\radha\\anaconda3\\lib\\site-packages (from requests>=2.32.2->datasets) (2.0.4)\n",
      "Requirement already satisfied: idna<4,>=2.5 in c:\\users\\radha\\anaconda3\\lib\\site-packages (from requests>=2.32.2->datasets) (3.7)\n",
      "Requirement already satisfied: urllib3<3,>=1.21.1 in c:\\users\\radha\\anaconda3\\lib\\site-packages (from requests>=2.32.2->datasets) (2.2.2)\n",
      "Requirement already satisfied: certifi>=2017.4.17 in c:\\users\\radha\\anaconda3\\lib\\site-packages (from requests>=2.32.2->datasets) (2024.6.2)\n",
      "Requirement already satisfied: colorama in c:\\users\\radha\\appdata\\roaming\\python\\python312\\site-packages (from tqdm>=4.66.3->datasets) (0.4.6)\n",
      "Requirement already satisfied: python-dateutil>=2.8.2 in c:\\users\\radha\\appdata\\roaming\\python\\python312\\site-packages (from pandas->datasets) (2.9.0.post0)\n",
      "Requirement already satisfied: pytz>=2020.1 in c:\\users\\radha\\anaconda3\\lib\\site-packages (from pandas->datasets) (2024.1)\n",
      "Requirement already satisfied: tzdata>=2022.7 in c:\\users\\radha\\anaconda3\\lib\\site-packages (from pandas->datasets) (2023.3)\n",
      "Requirement already satisfied: six>=1.5 in c:\\users\\radha\\appdata\\roaming\\python\\python312\\site-packages (from python-dateutil>=2.8.2->pandas->datasets) (1.17.0)\n",
      "Using cached pyarrow-20.0.0-cp312-cp312-win_amd64.whl (25.7 MB)\n",
      "Installing collected packages: pyarrow\n",
      "  Attempting uninstall: pyarrow\n",
      "    Found existing installation: pyarrow 14.0.1\n",
      "    Uninstalling pyarrow-14.0.1:\n",
      "      Successfully uninstalled pyarrow-14.0.1\n",
      "Successfully installed pyarrow-20.0.0\n"
     ]
    },
    {
     "name": "stderr",
     "output_type": "stream",
     "text": [
      "  WARNING: Failed to remove contents in a temporary directory 'C:\\Users\\radha\\anaconda3\\Lib\\site-packages\\~0arrow'.\n",
      "  You can safely remove it manually.\n",
      "ERROR: pip's dependency resolver does not currently take into account all the packages that are installed. This behaviour is the source of the following dependency conflicts.\n",
      "streamlit 1.32.0 requires packaging<24,>=16.8, but you have packaging 24.2 which is incompatible.\n"
     ]
    }
   ],
   "source": [
    "!pip install datasets"
   ]
  },
  {
   "cell_type": "code",
   "execution_count": null,
   "id": "ddba92cb-c341-4a8b-85be-2825837c2a56",
   "metadata": {},
   "outputs": [],
   "source": [
    "pip install --upgrade pyarrow\n"
   ]
  },
  {
   "cell_type": "code",
   "execution_count": 7,
   "id": "128336a6-76af-449c-b6e8-2382d8285cc1",
   "metadata": {},
   "outputs": [
    {
     "name": "stdout",
     "output_type": "stream",
     "text": [
      "Requirement already satisfied: pyarrow in c:\\users\\radha\\anaconda3\\lib\\site-packages (14.0.1)\n",
      "Requirement already satisfied: numpy>=1.16.6 in c:\\users\\radha\\anaconda3\\lib\\site-packages (from pyarrow) (1.26.4)\n"
     ]
    }
   ],
   "source": [
    "!pip install pyarrow"
   ]
  },
  {
   "cell_type": "code",
   "execution_count": 8,
   "id": "annoying-ethiopia",
   "metadata": {
    "scrolled": true
   },
   "outputs": [],
   "source": [
    "%load_ext autoreload\n",
    "%autoreload 2\n",
    "\n",
    "# Use HuggingFace's datasets library to access the Emotion dataset\n",
    "from datasets import load_dataset\n",
    "import numpy as np\n",
    "from sklearn.model_selection import train_test_split "
   ]
  },
  {
   "cell_type": "markdown",
   "id": "09e90e82-bbdb-4532-91b1-58229d4f1043",
   "metadata": {},
   "source": [
    "\n",
    "The dataset classifies paragraphs taken from corporate disclosures that discuss climate-related issues. It classifiers them into \"risk\" (0), \"neutral\" (1) or \"opportunity\" (2) representing the sentiment of the paragraph.\n",
    "\n",
    "First we need to load the data. The data is already split into train, validation and test. The _validation_ set (also called 'development' set or 'devset') can be used to compute performance of your model when tuning hyperparameters, optimising combinations of features, or looking at the errors your model makes before improving it. This allows you to hold out the test set (i.e., not to look at it at all when developing your method) to give a fair evaluation of the model and how well it generalises to new examples. This avoids tuning the model to specific examples in the test set. An alternative approach to validation is to not use a single fixed validation set, but instead use [cross validation](https://scikit-learn.org/stable/modules/cross_validation.html). "
   ]
  },
  {
   "cell_type": "code",
   "execution_count": 9,
   "id": "efaf1096-acce-4226-a172-5357f49e91c1",
   "metadata": {},
   "outputs": [
    {
     "name": "stdout",
     "output_type": "stream",
     "text": [
      "Training dataset with 800 instances loaded\n",
      "Development/validation dataset with 200 instances loaded\n"
     ]
    }
   ],
   "source": [
    "cache_dir = \"./data_cache\"\n",
    "\n",
    "# load the original training set from HuggingFace\n",
    "train_dataset = load_dataset(\n",
    "    \"climatebert/climate_sentiment\",\n",
    "    split=\"train\",\n",
    "    cache_dir=cache_dir,\n",
    ")\n",
    "\n",
    "# we're going to create a new validation set by splitting the data\n",
    "dataset_splits = train_dataset.train_test_split(test_size=0.2)\n",
    "train_dataset = dataset_splits[\"train\"]\n",
    "val_dataset = dataset_splits[\"test\"]\n",
    "\n",
    "train_texts = np.array(train_dataset[\"text\"])\n",
    "val_texts = np.array(val_dataset[\"text\"])\n",
    "\n",
    "train_labels = np.array(train_dataset[\"label\"])\n",
    "val_labels = np.array(val_dataset[\"label\"])\n",
    "\n",
    "print(f\"Training dataset with {len(train_texts)} instances loaded\")\n",
    "print(f\"Development/validation dataset with {len(val_texts)} instances loaded\")\n",
    "\n",
    "### DO NOT MODIFY\n",
    "# save gold labels to file\n",
    "pd.DataFrame(val_labels).to_csv('./outputs/val_labels.csv')"
   ]
  },
  {
   "cell_type": "code",
   "execution_count": 10,
   "id": "0491be5a-5d4f-422a-973d-58ef9ea567f9",
   "metadata": {},
   "outputs": [
    {
     "name": "stderr",
     "output_type": "stream",
     "text": [
      "[nltk_data] Downloading package punkt to\n",
      "[nltk_data]     C:\\Users\\radha\\AppData\\Roaming\\nltk_data...\n",
      "[nltk_data]   Package punkt is already up-to-date!\n"
     ]
    },
    {
     "data": {
      "text/plain": [
       "True"
      ]
     },
     "execution_count": 10,
     "metadata": {},
     "output_type": "execute_result"
    }
   ],
   "source": [
    "import nltk\n",
    "nltk.download('punkt')\n"
   ]
  },
  {
   "cell_type": "markdown",
   "id": "38916c42",
   "metadata": {},
   "source": [
    "In this notebook, you're going to build three different classifiers for this dataset, then compare how they work, and analyse the results. We are going to start by implementing a naïve Bayes classifier from scratch. \n",
    "\n",
    "We are going to begin by initialising some useful variables and doing some very simple pre-processing using CountVectorizer."
   ]
  },
  {
   "cell_type": "code",
   "execution_count": 11,
   "id": "5fb3e757",
   "metadata": {},
   "outputs": [
    {
     "name": "stderr",
     "output_type": "stream",
     "text": [
      "C:\\Users\\radha\\anaconda3\\Lib\\site-packages\\sklearn\\feature_extraction\\text.py:525: UserWarning: The parameter 'token_pattern' will not be used since 'tokenizer' is not None'\n",
      "  warnings.warn(\n"
     ]
    }
   ],
   "source": [
    "from sklearn.feature_extraction.text import CountVectorizer\n",
    "from nltk import word_tokenize\n",
    "\n",
    "num_classes = 3\n",
    "\n",
    "def preprocess(train_texts):\n",
    "    vectorizer = CountVectorizer(ngram_range=(2,2), tokenizer=word_tokenize)\n",
    "    X = vectorizer.fit_transform(train_texts).toarray()\n",
    "    num_features = X.shape[1]\n",
    "\n",
    "    X_val = vectorizer.transform(val_texts).toarray()\n",
    "\n",
    "    return X, X_val, vectorizer, num_features\n",
    "\n",
    "X, X_val, vectorizer, num_features = preprocess(train_texts)"
   ]
  },
  {
   "cell_type": "markdown",
   "id": "9cb1f7d1",
   "metadata": {},
   "source": [
    "## TASK 1.1a\n",
    "\n",
    "Complete the function below to compute the class priors, $p(y_n = c)$ for each class label $c$, where $y_n$ is the class label of document $n$. Do not use the Sklearn implementation to do this, but implement it yourself, e.g., using Numpy functions. The function must output the class priors as a list or Numpy array containing the probabilities. You do not need to apply any smoothing or regularisation.    (3 marks)"
   ]
  },
  {
   "cell_type": "code",
   "execution_count": 12,
   "id": "79e7da69",
   "metadata": {},
   "outputs": [
    {
     "name": "stdout",
     "output_type": "stream",
     "text": [
      "[0.3525  0.39875 0.24875]\n"
     ]
    }
   ],
   "source": [
    "def compute_class_priors(texts, labels):\n",
    "    priors = np.zeros(num_classes)\n",
    "\n",
    "    ### WRITE YOUR ANSWER HERE    \n",
    "    total_docs = len(labels)    #  for Total number of docs\n",
    "    \n",
    "    # For each class (e.g., 0, 1, 2), compute the prior probability\n",
    "    for c in range(num_classes):\n",
    "         count_c = np.sum(np.array(labels) == c)  # Count how many docs have label == c\n",
    "         priors[c] = count_c / total_docs    # Compute prior: P(y = c) = count of class c / total docs\n",
    "\n",
    "    return priors\n",
    "    \n",
    "class_priors = compute_class_priors(train_texts, train_labels)\n",
    "print(class_priors)\n",
    "\n",
    "### DO NOT MODIFY\n",
    "pd.DataFrame(class_priors).to_csv('./outputs/11a_class_priors.csv')"
   ]
  },
  {
   "cell_type": "markdown",
   "id": "3bc8c63e",
   "metadata": {},
   "source": [
    "## TASK 1.1b\n",
    "\n",
    "Complete the function below to extract n-gram features from the text, then compute the liklihood $p(x_{ni} = w | y_n = c)$ that the $i$ th n-gram in document $n$ is $w$, given that the class of $n$ is $c$. Again, do not use the Sklearn implementation to do this, but implement it yourself, e.g., using Numpy functions. The function must output the likelihoods as a 2D Numpy array containing probabilities. You should apply smoothing by adding counts of +1 to the counts of each feature.  (3 marks)"
   ]
  },
  {
   "cell_type": "code",
   "execution_count": 13,
   "id": "91d8722e",
   "metadata": {},
   "outputs": [],
   "source": [
    "def compute_feature_likelihoods(X, labels):\n",
    "\n",
    "    likelihoods = np.ones((num_features, num_classes))  # a 2D numpy array where you can store the likelihoods. Note that all values are initialised to one.\n",
    "\n",
    "    ### WRITE YOUR ANSWER HERE    \n",
    "    # Convert labels to a numpy array for easier indexing\n",
    "    labels = np.array(labels)\n",
    "    \n",
    "    # Initialise class-wise total counts of all features (start with +1 smoothing)\n",
    "    class_totals = np.ones(num_classes) * num_features  # Each class gets +1 for each feature (Laplace smoothing)\n",
    "    \n",
    "    # Loop over each document\n",
    "    for i in range(X.shape[0]):\n",
    "        label = labels[i]            # Class label for this document\n",
    "        x_i = X[i]                   # Feature counts for this document\n",
    "        \n",
    "        # Add feature counts for this document to the corresponding class\n",
    "        likelihoods[:, label] += x_i\n",
    "        class_totals[label] += np.sum(x_i)  # Update total feature count for this class\n",
    "\n",
    "    # Now convert counts to probabilities: P(x_i = w | y = c)\n",
    "    for c in range(num_classes):\n",
    "        likelihoods[:, c] /= class_totals[c]  # Normalize each column by total word count for class c\n",
    "\n",
    "    ### END OF ANSWER\n",
    "    return likelihoods\n",
    "\n",
    "likelihoods = compute_feature_likelihoods(X, train_labels)\n",
    "\n",
    "### DO NOT MODIFY\n",
    "pd.DataFrame(likelihoods).to_csv('./outputs/11b_likelihoods.csv')"
   ]
  },
  {
   "cell_type": "markdown",
   "id": "8f6a867a",
   "metadata": {},
   "source": [
    "Now, we are going to use the code in the next cell to compute the log probabilities of each class for each text in the validation set. This code will use the previous functions you implemented, compute_class_priors and compute_feature_likelihoods. The log probabilities will be stored in the 'predictions' array."
   ]
  },
  {
   "cell_type": "code",
   "execution_count": 14,
   "id": "30194a65",
   "metadata": {},
   "outputs": [
    {
     "name": "stdout",
     "output_type": "stream",
     "text": [
      "[[-6.49593806e-03 -5.03982446e+00 -2.20121208e+01]\n",
      " [-6.99174052e-12 -2.57530361e+01 -2.84682192e+01]\n",
      " [-4.09493369e-03 -5.50005533e+00 -1.79786317e+01]\n",
      " [-1.22953400e+00 -3.50318821e-01 -5.77386442e+00]\n",
      " [-8.04624621e+00 -8.07106294e-04 -7.62831753e+00]\n",
      " [ 0.00000000e+00 -4.62081160e+01 -4.98159045e+01]\n",
      " [-7.02005904e+00 -1.02006619e-03 -8.98102892e+00]\n",
      " [-5.15869989e-02 -3.17652871e+00 -4.76197412e+00]\n",
      " [-9.09473559e-02 -6.63957423e+00 -2.45775884e+00]\n",
      " [-2.02299793e-01 -1.69745946e+00 -1.32469884e+01]\n",
      " [-1.40202350e+00 -1.18123352e+00 -8.05193149e-01]\n",
      " [-1.12186528e+01 -5.44766287e+00 -4.32913614e-03]\n",
      " [-4.89565286e+00 -7.50864495e-03 -1.34096405e+01]\n",
      " [-3.48935506e+01 -9.47646287e-01 -4.90455140e-01]\n",
      " [-8.57662277e+00 -1.64377962e-01 -1.88789434e+00]\n",
      " [ 0.00000000e+00 -3.82589520e+01 -3.45901256e+01]\n",
      " [-1.62493090e+01 -4.25050835e+00 -1.43596807e-02]\n",
      " [-1.37284707e+01 -1.09125710e-06 -2.18743641e+01]\n",
      " [ 0.00000000e+00 -5.82646445e+01 -8.63369198e+01]\n",
      " [-3.52896017e+01  0.00000000e+00 -4.62793465e+01]\n",
      " [-4.77766719e+00 -9.83456501e+00 -8.50524302e-03]\n",
      " [-1.92164112e+01 -1.02514450e-01 -2.32857094e+00]\n",
      " [-2.24996169e+00 -1.11641958e-01 -8.36740792e+00]\n",
      " [-6.72252864e+00 -9.74873829e-01 -4.75528364e-01]\n",
      " [-3.96179733e+01 -2.31921149e-11 -2.44858389e+01]\n",
      " [-2.31249163e+00 -5.49435241e+00 -1.08837837e-01]\n",
      " [-4.21262298e+00 -1.49193355e-02 -1.37057698e+01]\n",
      " [-1.97012599e+01 -2.22268000e-08 -1.77555201e+01]\n",
      " [-1.14980635e+01 -1.01509940e-05 -2.05298162e+01]\n",
      " [-6.57181934e+00 -1.40189746e-03 -1.33051577e+01]\n",
      " [-1.83482377e+01 -6.42530274e+00 -1.62136721e-03]\n",
      " [ 0.00000000e+00 -6.81554046e+01 -8.45584770e+01]\n",
      " [-3.33396026e+00 -4.50435309e-02 -4.78041714e+00]\n",
      " [-2.18628241e+01 -7.18318915e-08 -1.64534015e+01]\n",
      " [ 0.00000000e+00 -5.28282480e+01 -6.46177375e+01]\n",
      " [-2.14734264e+01 -2.06058312e+01 -1.59690217e-09]\n",
      " [ 0.00000000e+00 -3.53595179e+01 -4.03300813e+01]\n",
      " [-2.06869082e+01 -2.99996827e-09 -2.00488411e+01]\n",
      " [ 0.00000000e+00 -1.39659927e+02 -1.96680283e+02]\n",
      " [-1.23872042e-07 -1.59052188e+01 -2.26284123e+01]\n",
      " [-3.54233407e-08 -1.71558947e+01 -3.54528953e+01]\n",
      " [-1.59386336e+01 -9.17962554e+00 -1.03244127e-04]\n",
      " [-2.31036864e+01 -7.01845693e-10 -2.12186569e+01]\n",
      " [-1.55631596e-09 -2.02809515e+01 -3.21608604e+01]\n",
      " [-2.27373675e-13 -2.93269487e+01 -4.90290790e+01]\n",
      " [-1.39353937e+02 -1.29921051e+02  0.00000000e+00]\n",
      " [-1.18493519e+01 -7.16306869e-06 -1.77346354e+01]\n",
      " [-1.42724237e-02 -4.86533462e+00 -5.04184623e+00]\n",
      " [-4.21137160e-03 -5.47208237e+00 -1.69330284e+01]\n",
      " [ 0.00000000e+00 -4.82849881e+01 -5.61995889e+01]\n",
      " [-4.87032884e+00 -4.37768290e-02 -3.34780036e+00]\n",
      " [-1.83500345e+00 -1.93008292e-01 -4.14068737e+00]\n",
      " [-3.49729703e-08 -1.77855993e+01 -1.79443722e+01]\n",
      " [-1.91188868e-01 -3.72926457e+00 -1.89703372e+00]\n",
      " [-5.67679363e+00 -4.13264572e+00 -1.96568414e-02]\n",
      " [-2.53594407e+01 -9.09651002e+00 -1.12062489e-04]\n",
      " [-1.71508547e+01 -1.07655666e-07 -1.64458593e+01]\n",
      " [-2.06214546e+01 -1.27453817e+01 -2.91686661e-06]\n",
      " [-1.53633444e-01 -1.94902632e+00 -1.38003903e+01]\n",
      " [-2.84217094e-13 -2.98315313e+01 -2.92887063e+01]\n",
      " [-2.28380312e-03 -6.12219270e+00 -9.34322579e+00]\n",
      " [-4.15589151e+00 -2.34759957e+00 -1.17962001e-01]\n",
      " [-9.79106888e-03 -4.69142672e+00 -7.47039405e+00]\n",
      " [-7.73691821e+00 -4.36605156e-04 -1.61650259e+01]\n",
      " [-1.68094367e+00 -2.28457918e-01 -4.01505111e+00]\n",
      " [-1.21755490e+01 -5.17717808e-06 -1.76234761e+01]\n",
      " [-1.09333455e+01 -2.03263754e-05 -1.29099632e+01]\n",
      " [-9.51214867e+00 -7.39515289e-05 -2.09294633e+01]\n",
      " [-3.30137782e-02 -3.42729187e+00 -1.94506662e+01]\n",
      " [-3.22541633e+01 -2.02726085e+01 -1.56933311e-09]\n",
      " [-2.30445373e+00 -1.05182745e-01 -1.05315760e+01]\n",
      " [-7.05534848e-01 -6.81130209e-01 -9.10692393e+00]\n",
      " [-1.54041054e+01 -2.04212370e-07 -3.26297520e+01]\n",
      " [-9.20026097e+00 -1.01271094e-04 -1.51901543e+01]\n",
      " [-1.69772086e+01 -8.38497272e-08 -1.69976694e+01]\n",
      " [-4.73556726e+00 -5.21380781e-01 -9.22504196e-01]\n",
      " [-7.16007776e+00 -2.27364306e-02 -3.83030885e+00]\n",
      " [-6.42339470e+01 -1.47792889e-11 -2.49441787e+01]\n",
      " [-9.37317879e+00 -6.06103325e+00 -2.41988853e-03]\n",
      " [-2.77969325e-01 -1.41601179e+00 -2.15444271e+01]\n",
      " [-1.13686838e-13 -3.03750676e+01 -4.35443795e+01]\n",
      " [-9.37250973e-03 -4.67468817e+00 -1.50495187e+01]\n",
      " [ 0.00000000e+00 -3.59741088e+01 -3.78324730e+01]\n",
      " [-9.61931008e-01 -4.83191803e-01 -6.87406486e+00]\n",
      " [-2.56046496e+01 -1.17578844e+01 -7.82740477e-06]\n",
      " [-4.10642223e+01 -4.40530740e+01  0.00000000e+00]\n",
      " [ 0.00000000e+00 -8.74698087e+01 -1.00743968e+02]\n",
      " [-1.06934666e+01 -1.28617047e-02 -4.36170228e+00]\n",
      " [-7.02705840e-01 -2.04135422e+00 -9.81085772e-01]\n",
      " [-1.10177062e+01 -2.07295504e-05 -1.23520804e+01]\n",
      " [-4.68174411e+01 -2.47554654e+01 -1.77351467e-11]\n",
      " [ 0.00000000e+00 -5.57086688e+01 -8.62346432e+01]\n",
      " [-1.18149396e+01 -9.91269258e-06 -1.28915027e+01]\n",
      " [ 0.00000000e+00 -4.89873339e+01 -6.86486416e+01]\n",
      " [-1.81543358e+01 -1.08502994e-02 -4.52898406e+00]\n",
      " [-2.85548343e+01 -9.16652880e-07 -1.39025378e+01]\n",
      " [ 0.00000000e+00 -7.38571339e+01 -8.11753651e+01]\n",
      " [-1.09741020e+01 -1.50468024e+01 -1.74319580e-05]\n",
      " [-1.21512456e+01 -1.32006670e+01 -7.13118243e-06]\n",
      " [-4.58127227e+01  0.00000000e+00 -4.68497725e+01]\n",
      " [-2.65383744e+01 -4.26325641e-12 -2.74016184e+01]\n",
      " [-3.70597336e-03 -5.59966235e+00 -1.99276347e+01]\n",
      " [-8.79496093e+00 -1.51580595e-04 -1.64116569e+01]\n",
      " [-2.02159528e+00 -1.42075233e-01 -1.93856767e+01]\n",
      " [-8.03735693e+00 -7.31435428e-01 -6.56894140e-01]\n",
      " [-6.70364187e-01 -7.16813269e-01 -8.66878742e+00]\n",
      " [-7.11984669e+00 -4.79684703e-03 -5.52736084e+00]\n",
      " [-1.51679712e+01 -1.81787382e+01 -2.71340355e-07]\n",
      " [-9.47879617e+00 -1.02071881e-04 -1.05724984e+01]\n",
      " [-1.33269336e+01 -1.14143959e+01 -1.26655457e-05]\n",
      " [-1.86569569e+01 -1.20876669e+01 -5.63641544e-06]\n",
      " [-6.50600583e+00 -1.89489963e+00 -1.64671669e-01]\n",
      " [ 0.00000000e+00 -3.22724910e+01 -3.85368714e+01]\n",
      " [-2.22246597e+01 -9.37163975e-06 -1.15778509e+01]\n",
      " [-1.80341795e-01 -1.80583796e+00 -7.29556716e+00]\n",
      " [-2.71097880e+00 -3.77173912e+00 -9.37435001e-02]\n",
      " [-3.26483144e+01 -2.30784281e-11 -2.44908001e+01]\n",
      " [-5.75542104e+00 -9.36768609e-03 -5.08994274e+00]\n",
      " [-4.19279899e+01 -1.59449599e+01 -1.18902790e-07]\n",
      " [-1.31211768e+01 -8.03746990e+00 -3.25180698e-04]\n",
      " [-2.58076584e+01 -2.44395076e+00 -9.08191764e-02]\n",
      " [-3.87494866e+01  0.00000000e+00 -3.71522569e+01]\n",
      " [-6.61040932e+00 -1.35051017e-03 -1.26162480e+01]\n",
      " [-2.08051955e+01 -6.18313902e-06 -1.19938366e+01]\n",
      " [-7.48064572e+00 -2.63614398e-01 -1.46461758e+00]\n",
      " [-7.87291538e-06 -1.20792609e+01 -1.30284778e+01]\n",
      " [ 0.00000000e+00 -5.13930808e+01 -6.14528496e+01]\n",
      " [-8.87469598e-03 -4.72902229e+00 -1.49328767e+01]\n",
      " [-7.47588397e+00 -5.74291421e-04 -1.17950441e+01]\n",
      " [-8.60032077e-04 -7.20953675e+00 -9.02666383e+00]\n",
      " [-3.32958570e+01 -1.09404344e+01 -1.77269318e-05]\n",
      " [-1.52505100e+01 -1.01724063e-04 -9.19564120e+00]\n",
      " [-3.95045181e+00 -2.39855165e-02 -5.41391994e+00]\n",
      " [-1.93042659e+01 -2.89828273e-06 -1.27528206e+01]\n",
      " [-6.35073019e+00 -9.26503171e-02 -2.44481313e+00]\n",
      " [-1.47794371e+00 -2.61231200e-01 -6.32504294e+00]\n",
      " [-1.59161573e-12 -2.79435789e+01 -2.77914045e+01]\n",
      " [-1.41878726e+01 -5.98012657e+00 -2.53239915e-03]\n",
      " [-3.44004659e+01 -9.82470395e+00 -5.40999713e-05]\n",
      " [-1.50880495e+01 -4.18173703e-04 -7.78049296e+00]\n",
      " [-1.06239908e+01 -1.39234726e-01 -2.04059099e+00]\n",
      " [-1.47996803e-02 -4.22054839e+00 -1.59589062e+01]\n",
      " [-2.97622906e+01 -3.90059540e-10 -2.16651650e+01]\n",
      " [-6.51391328e+00 -1.48393712e-03 -1.55853329e+01]\n",
      " [-8.42828099e+00 -2.55525181e-04 -1.02074183e+01]\n",
      " [ 0.00000000e+00 -3.71055439e+01 -6.14379567e+01]\n",
      " [-2.72915869e+01 -2.24124729e+01 -1.86048510e-10]\n",
      " [-6.98782679e+00 -3.14442842e+00 -4.50126356e-02]\n",
      " [-2.02855614e-04 -8.50320626e+00 -1.78329552e+01]\n",
      " [-1.19447721e+01 -2.93775635e-03 -5.83379358e+00]\n",
      " [-6.35928927e-08 -1.65715347e+01 -2.37394101e+01]\n",
      " [-3.13729677e+01  0.00000000e+00 -3.25920363e+01]\n",
      " [ 0.00000000e+00 -5.00945686e+01 -6.44462720e+01]\n",
      " [-2.68091312e+00 -7.09758203e-02 -1.11068745e+01]\n",
      " [-2.68885143e+01 -2.10320650e-12 -3.22944185e+01]\n",
      " [-2.84217094e-13 -2.89276957e+01 -3.79235828e+01]\n",
      " [-1.86757250e+01 -1.46762473e+01 -4.30599357e-07]\n",
      " [-3.18997176e+01  0.00000000e+00 -3.44120585e+01]\n",
      " [-2.80611279e+01 -8.26479154e-05 -9.40096229e+00]\n",
      " [-3.02936797e+01 -1.32075240e-05 -1.12347305e+01]\n",
      " [-4.94533945e+00 -7.20146684e-03 -9.73628268e+00]\n",
      " [-1.37062616e+01 -6.26518189e+00 -1.90429501e-03]\n",
      " [-4.04692617e+00 -1.76305526e-02 -1.72200471e+01]\n",
      " [ 0.00000000e+00 -5.93614443e+01 -7.53982200e+01]\n",
      " [-7.58173906e+00 -7.18089102e-04 -8.47721679e+00]\n",
      " [-1.01506964e+01 -3.17025531e+00 -4.29408254e-02]\n",
      " [-1.54147062e+01 -3.04886222e+00 -4.85738806e-02]\n",
      " [-1.48768761e+01 -6.18506177e+00 -2.06244567e-03]\n",
      " [-1.38196543e-06 -1.36894989e+01 -1.52111725e+01]\n",
      " [-1.79619740e+00 -1.81436349e-01 -1.79289231e+01]\n",
      " [-2.57862472e+00 -7.89393363e-02 -1.05677627e+01]\n",
      " [-3.28535949e+01  0.00000000e+00 -3.44563181e+01]\n",
      " [-2.24472211e+00 -2.43359160e-01 -2.20679200e+00]\n",
      " [-1.49463191e+01 -3.30428207e-07 -1.86877789e+01]\n",
      " [-1.03581130e+01 -5.36500163e+00 -4.72031004e-03]\n",
      " [-2.75917552e-05 -1.04980594e+01 -2.03614135e+01]\n",
      " [-6.05397189e+00 -2.73857065e+00 -6.93621059e-02]\n",
      " [-2.88578796e+00 -5.22451551e-01 -1.04661479e+00]\n",
      " [-1.11990568e+01 -7.91875918e+00 -3.77611909e-04]\n",
      " [-3.98883962e+01  0.00000000e+00 -6.57566842e+01]\n",
      " [-1.74127343e+01 -1.67520303e-04 -8.69465335e+00]\n",
      " [-1.75404717e-01 -1.85806643e+00 -5.31674051e+00]\n",
      " [-1.13691617e+01 -1.15461825e-05 -2.67563268e+01]\n",
      " [-1.33932089e+00 -4.91373480e-01 -2.06995938e+00]\n",
      " [ 0.00000000e+00 -3.70670833e+01 -5.32179524e+01]\n",
      " [-1.37167725e-05 -1.12073350e+01 -1.57645182e+01]\n",
      " [-1.84488390e+01 -1.86872107e+00 -1.67615318e-01]\n",
      " [-2.41495400e+01 -3.25144356e-11 -3.79635266e+01]\n",
      " [-7.38592874e+00 -7.90361110e-04 -8.67892303e+00]\n",
      " [-1.35460308e+01 -1.79030159e+01 -1.32606510e-06]\n",
      " [-2.38481109e+00 -9.95504812e-02 -5.93343284e+00]\n",
      " [-1.98008895e+01 -7.89226804e+00 -3.73693554e-04]\n",
      " [-1.86866624e+01 -1.12278660e+01 -1.33061641e-05]\n",
      " [-7.38610206e+00 -1.77956707e-02 -4.07345690e+00]\n",
      " [-2.11797447e+01 -4.02810656e-08 -1.70432360e+01]\n",
      " [-5.08560941e+00 -1.15681553e+00 -3.86649993e-01]\n",
      " [-5.65233159e-01 -8.58094371e-01 -4.85323231e+00]\n",
      " [-4.51064291e+00 -1.11350824e-02 -9.40970191e+00]\n",
      " [-3.62506996e+00 -2.99165631e-02 -5.86880137e+00]\n",
      " [-2.27977567e+01 -1.25623956e-10 -3.60452192e+01]]\n"
     ]
    }
   ],
   "source": [
    "from scipy.special import logsumexp\n",
    "\n",
    "\n",
    "def NB_classify(class_priors, likelihoods, X_val):\n",
    "\n",
    "    predictions = np.zeros((X_val.shape[0], num_classes))  # an empty numpy array to store the predictions in\n",
    "\n",
    "    sum_of_log_likelihoods = X_val.dot(np.log(likelihoods))\n",
    "    log_joint_prob = sum_of_log_likelihoods + np.log(class_priors)[None, :]\n",
    "    for n, doc in enumerate(X_val):\n",
    "        predictions[n, :] = log_joint_prob[n]\n",
    "        predictions[n, :] -= logsumexp(predictions[n, :])\n",
    "    return predictions\n",
    "\n",
    "predictions = NB_classify(class_priors, likelihoods, X_val)\n",
    "print(predictions)"
   ]
  },
  {
   "cell_type": "markdown",
   "id": "d25d91f5",
   "metadata": {},
   "source": [
    "Use the 'predictions' array above to compute and print the accuracy of the classifier on the validation set.   "
   ]
  },
  {
   "cell_type": "code",
   "execution_count": 15,
   "id": "c70cca90",
   "metadata": {},
   "outputs": [
    {
     "data": {
      "text/plain": [
       "0.78"
      ]
     },
     "execution_count": 15,
     "metadata": {},
     "output_type": "execute_result"
    }
   ],
   "source": [
    "from sklearn.metrics import accuracy_score\n",
    "\n",
    "accuracy_score(val_labels, np.argmax(predictions, axis=1))"
   ]
  },
  {
   "cell_type": "markdown",
   "id": "a322e627",
   "metadata": {},
   "source": [
    "## TASK 1.1c\n",
    "\n",
    "The simplicty of naïve Bayes means that we can quite easily interpret the model. In the code above, we used the functions you implemented, compute_feature_likelihoods and compute_class_priors, to train an NB classifier with our training set. Given this classifier, which are the five n-gram features that most strongly indicate that the document belongs to class 0? Store these features in the 'top_features' list below.    (4 marks)"
   ]
  },
  {
   "cell_type": "code",
   "execution_count": 16,
   "id": "b6369d13",
   "metadata": {},
   "outputs": [
    {
     "name": "stdout",
     "output_type": "stream",
     "text": [
      "['climate change', ', and', 'of the', 'in the', ', the']\n"
     ]
    }
   ],
   "source": [
    "top_features = []\n",
    "\n",
    "### WRITE YOUR ANSWER HERE\n",
    "# Get feature names (n-grams) from the CountVectorizer used earlier\n",
    "feature_names = np.array(vectorizer.get_feature_names_out())\n",
    "\n",
    "# Get the likelihoods for class 0 (column 0 of the likelihoods matrix)\n",
    "class_0_likelihoods = likelihoods[:, 0]\n",
    "\n",
    "# Get the indices of the top 5 highest likelihood values for class 0\n",
    "top_indices = np.argsort(class_0_likelihoods)[-5:][::-1]  # sort descending\n",
    "\n",
    "top_features = feature_names[top_indices].tolist()     # Use these indices to get the actual n-gram feature strings\n",
    "\n",
    "### END OF ANSWER\n",
    "\n",
    "### DO NOT MODIFY\n",
    "print(top_features)\n",
    "pd.DataFrame(top_features).to_csv('./outputs/11c_top_feats.csv')\n",
    "###"
   ]
  },
  {
   "cell_type": "code",
   "execution_count": 17,
   "id": "61e02113-a648-4f7a-8e85-83f81f6bd614",
   "metadata": {},
   "outputs": [
    {
     "name": "stdout",
     "output_type": "stream",
     "text": [
      "🔹 Top 5 n-grams for Class 0: ['climate change', ', and', 'of the', 'in the', ', the']\n",
      "🔹 Top 5 n-grams for Class 1: ['of the', ', and', 'in the', 'climate change', '. the']\n",
      "🔹 Top 5 n-grams for Class 2: ['of the', 'in the', ', we', ', and', '. the']\n"
     ]
    }
   ],
   "source": [
    "# Get all feature names (n-grams) from CountVectorizer\n",
    "feature_names = np.array(vectorizer.get_feature_names_out())\n",
    "\n",
    "# Store top 5 features per class in a dictionary for easy access & visualisation\n",
    "top_features_per_class = {}\n",
    "\n",
    "# Loop through each class (0, 1, 2)\n",
    "for c in range(num_classes):\n",
    "    # Get likelihoods for class c\n",
    "    class_likelihoods = likelihoods[:, c]\n",
    "    \n",
    "    # Get indices of top 5 features for this class (sorted in descending order)\n",
    "    top_indices = np.argsort(class_likelihoods)[-5:][::-1]\n",
    "    \n",
    "    # Store the corresponding feature names\n",
    "    top_features_per_class[f'class_{c}'] = feature_names[top_indices].tolist()\n",
    "\n",
    "# Print results\n",
    "for c in range(num_classes):\n",
    "    print(f\"🔹 Top 5 n-grams for Class {c}: {top_features_per_class[f'class_{c}']}\")\n",
    "pd.DataFrame(top_features_per_class).to_csv('./outputs/11c_top_feats_all_classes.csv', index=False)\n"
   ]
  },
  {
   "cell_type": "markdown",
   "id": "caecba31",
   "metadata": {},
   "source": [
    "Up to this point, the classifier used bigrams features extracted using CountVectorizer with the wordnet tokenizer. \n",
    "\n",
    "## TASK 1.1d\n",
    "\n",
    "Your task is to improve the naïve Bayes classifier by changing the preprocessing or features only. It is up to you to decide how many changes are needed to improve the classifier -- a single change may be enough to achieve a good result (and maximum marks) and you should only include steps that help performance. Complete the 'preprocess_improved' function below, and run the cell to compute accuracy of the improved classifier on the validation set.     (3 marks)"
   ]
  },
  {
   "cell_type": "code",
   "execution_count": 18,
   "id": "c8e59d97-8bde-4b67-8599-51ec8f7ffa58",
   "metadata": {},
   "outputs": [],
   "source": [
    "from sklearn.feature_extraction.text import CountVectorizer\n",
    "from nltk import word_tokenize\n",
    "from nltk.corpus import stopwords\n",
    "import nltk\n"
   ]
  },
  {
   "cell_type": "code",
   "execution_count": 19,
   "id": "573eb5cf-bb96-4fc6-a816-9e5023a04591",
   "metadata": {},
   "outputs": [
    {
     "name": "stderr",
     "output_type": "stream",
     "text": [
      "[nltk_data] Downloading package stopwords to\n",
      "[nltk_data]     C:\\Users\\radha\\AppData\\Roaming\\nltk_data...\n",
      "[nltk_data]   Package stopwords is already up-to-date!\n"
     ]
    },
    {
     "data": {
      "text/plain": [
       "True"
      ]
     },
     "execution_count": 19,
     "metadata": {},
     "output_type": "execute_result"
    }
   ],
   "source": [
    "nltk.download('stopwords')"
   ]
  },
  {
   "cell_type": "code",
   "execution_count": 20,
   "id": "6178603f-553c-4f42-a7ec-03fad86b7049",
   "metadata": {},
   "outputs": [],
   "source": [
    "import warnings\n",
    "warnings.filterwarnings('ignore')"
   ]
  },
  {
   "cell_type": "code",
   "execution_count": 21,
   "id": "1ba9e952-4186-435b-b6cc-a1ece96b5fcc",
   "metadata": {},
   "outputs": [
    {
     "name": "stdout",
     "output_type": "stream",
     "text": [
      "0.75\n"
     ]
    }
   ],
   "source": [
    "def preprocess_improved(train_texts):\n",
    "    ### WRITE YOUR ANSWER HERE\n",
    "### Improvements:\n",
    "# 1) Using unigrams + bigrams (ngram_range=(1,2))\n",
    "# 2) Removing English stop words (helps reduce noise)\n",
    "# 3) Lowercasing is done by default in CountVectorizer\n",
    "\n",
    "    vectorizer = CountVectorizer(\n",
    "        ngram_range=(1,2),                    # use unigrams and bigrams\n",
    "        tokenizer=word_tokenize,             # same tokenizer\n",
    "        stop_words=stopwords.words('english')  # remove common stop words\n",
    "    )\n",
    "\n",
    "    # Fit on training data and transform both sets\n",
    "    X = vectorizer.fit_transform(train_texts).toarray()\n",
    "    num_features = X.shape[1]\n",
    "    X_val = vectorizer.transform(val_texts).toarray()\n",
    "    vectorizer = CountVectorizer(ngram_range=(2,2), tokenizer=word_tokenize)\n",
    "\n",
    "    ### END OF ANSWER\n",
    "    return X, X_val, vectorizer, num_features\n",
    "\n",
    "X, X_val, vectorizer, num_features = preprocess_improved(train_texts)\n",
    "class_priors = compute_class_priors(train_texts, train_labels)\n",
    "likelihoods = compute_feature_likelihoods(X, train_labels)\n",
    "predictions = NB_classify(class_priors, likelihoods, X_val)\n",
    "predictions_nb = np.argmax(predictions, axis=1)\n",
    "\n",
    "### DO NOT MODIFY\n",
    "pd.DataFrame(predictions_nb).to_csv('./outputs/11d_improved_preds.csv')\n",
    "accuracy_improved = accuracy_score(val_labels, predictions_nb)\n",
    "print(accuracy_improved)\n",
    "###"
   ]
  },
  {
   "cell_type": "markdown",
   "id": "867a1545-2700-413e-9083-5990c64b2679",
   "metadata": {},
   "source": [
    "I explored three ways in which I can improve the accuracy by changing the preprocessing:\n",
    "\n",
    "Stemming: reduced the model’s accuracy from 0.795 to 0.72.\n",
    "\n",
    "Stopword removal resulted in an accuracy of 0.70.\n",
    "\n",
    "Adding unigrams (1,2-grams): preserved the baseline accuracy at 0.795, but did not improve it."
   ]
  },
  {
   "cell_type": "markdown",
   "id": "f4c60bcf",
   "metadata": {},
   "source": [
    "## TASK 1.2\n",
    "\n",
    "Below is an implementation of a neural network classifier that we can apply to the same dataset. However, there are some mistakes in the code and some poor choices in the choice of parameters and architecture. Your task is to fix the errors, make better parameter choices, and improve the model's performance. **Modify the code within the next cell** to improve the neural network classifier, then run it and compute its accuracy using the code in the cell after that.   (8 marks)"
   ]
  },
  {
   "cell_type": "code",
   "execution_count": 22,
   "id": "9609f6f1-c4a9-4afa-8fc9-f9e43efdd9de",
   "metadata": {},
   "outputs": [
    {
     "name": "stdout",
     "output_type": "stream",
     "text": [
      "Requirement already satisfied: transformers in c:\\users\\radha\\anaconda3\\lib\\site-packages (4.51.3)\n",
      "Requirement already satisfied: filelock in c:\\users\\radha\\anaconda3\\lib\\site-packages (from transformers) (3.13.1)\n",
      "Requirement already satisfied: huggingface-hub<1.0,>=0.30.0 in c:\\users\\radha\\anaconda3\\lib\\site-packages (from transformers) (0.30.2)\n",
      "Requirement already satisfied: numpy>=1.17 in c:\\users\\radha\\anaconda3\\lib\\site-packages (from transformers) (1.26.4)\n",
      "Requirement already satisfied: packaging>=20.0 in c:\\users\\radha\\appdata\\roaming\\python\\python312\\site-packages (from transformers) (24.2)\n",
      "Requirement already satisfied: pyyaml>=5.1 in c:\\users\\radha\\anaconda3\\lib\\site-packages (from transformers) (6.0.1)\n",
      "Requirement already satisfied: regex!=2019.12.17 in c:\\users\\radha\\anaconda3\\lib\\site-packages (from transformers) (2023.10.3)\n",
      "Requirement already satisfied: requests in c:\\users\\radha\\anaconda3\\lib\\site-packages (from transformers) (2.32.2)\n",
      "Requirement already satisfied: tokenizers<0.22,>=0.21 in c:\\users\\radha\\anaconda3\\lib\\site-packages (from transformers) (0.21.1)\n",
      "Requirement already satisfied: safetensors>=0.4.3 in c:\\users\\radha\\anaconda3\\lib\\site-packages (from transformers) (0.5.3)\n",
      "Requirement already satisfied: tqdm>=4.27 in c:\\users\\radha\\anaconda3\\lib\\site-packages (from transformers) (4.66.4)\n",
      "Requirement already satisfied: fsspec>=2023.5.0 in c:\\users\\radha\\anaconda3\\lib\\site-packages (from huggingface-hub<1.0,>=0.30.0->transformers) (2024.3.1)\n",
      "Requirement already satisfied: typing-extensions>=3.7.4.3 in c:\\users\\radha\\anaconda3\\lib\\site-packages (from huggingface-hub<1.0,>=0.30.0->transformers) (4.11.0)\n",
      "Requirement already satisfied: colorama in c:\\users\\radha\\appdata\\roaming\\python\\python312\\site-packages (from tqdm>=4.27->transformers) (0.4.6)\n",
      "Requirement already satisfied: charset-normalizer<4,>=2 in c:\\users\\radha\\anaconda3\\lib\\site-packages (from requests->transformers) (2.0.4)\n",
      "Requirement already satisfied: idna<4,>=2.5 in c:\\users\\radha\\anaconda3\\lib\\site-packages (from requests->transformers) (3.7)\n",
      "Requirement already satisfied: urllib3<3,>=1.21.1 in c:\\users\\radha\\anaconda3\\lib\\site-packages (from requests->transformers) (2.2.2)\n",
      "Requirement already satisfied: certifi>=2017.4.17 in c:\\users\\radha\\anaconda3\\lib\\site-packages (from requests->transformers) (2024.6.2)\n"
     ]
    }
   ],
   "source": [
    "!pip install transformers"
   ]
  },
  {
   "cell_type": "code",
   "execution_count": 23,
   "id": "8091f8f2",
   "metadata": {},
   "outputs": [
    {
     "data": {
      "application/vnd.jupyter.widget-view+json": {
       "model_id": "30b9369a537142c59dcc8905e135f1de",
       "version_major": 2,
       "version_minor": 0
      },
      "text/plain": [
       "Map:   0%|          | 0/200 [00:00<?, ? examples/s]"
      ]
     },
     "metadata": {},
     "output_type": "display_data"
    },
    {
     "name": "stdout",
     "output_type": "stream",
     "text": [
      "Epoch 1/5 - Training Loss: 1.0772\n",
      "Epoch 1/5 - Validation Loss: 1.0406\n",
      "Epoch 2/5 - Training Loss: 1.0418\n",
      "Epoch 2/5 - Validation Loss: 1.0135\n",
      "Epoch 3/5 - Training Loss: 0.9977\n",
      "Epoch 3/5 - Validation Loss: 0.9723\n",
      "Epoch 4/5 - Training Loss: 0.9263\n",
      "Epoch 4/5 - Validation Loss: 0.9064\n",
      "Epoch 5/5 - Training Loss: 0.8298\n",
      "Epoch 5/5 - Validation Loss: 0.8360\n",
      "0.635\n"
     ]
    }
   ],
   "source": [
    "### DO NOT MODIFY\n",
    "set_seed(my_student_number)\n",
    "###\n",
    "\n",
    "### WRITE YOUR ANSWER HERE: MODIFY THE CODE WITHIN THIS CELL\n",
    "\n",
    "from torch import nn, optim\n",
    "from transformers import AutoTokenizer\n",
    "from torch.utils.data import DataLoader\n",
    "import warnings\n",
    "warnings.filterwarnings('ignore')\n",
    "\n",
    "# Load tokenizer\n",
    "tokenizer = AutoTokenizer.from_pretrained(\"climatebert/distilroberta-base-climate-f\")\n",
    "\n",
    "# Updated hyperparameters\n",
    "sequence_length = 64\n",
    "batch_size = 16\n",
    "\n",
    "# Tokenization function\n",
    "def tokenize_function(examples):\n",
    "    return tokenizer(\n",
    "        examples[\"text\"],\n",
    "        padding=\"max_length\",\n",
    "        truncation=True,\n",
    "        max_length=sequence_length,\n",
    "        return_tensors=\"pt\"\n",
    "    )\n",
    "\n",
    "# Tokenize datasets\n",
    "tokenized_dataset = train_dataset.map(tokenize_function, batched=True)\n",
    "tokenized_dataset.set_format(type=\"torch\", columns=[\"input_ids\", \"attention_mask\", \"label\"])\n",
    "train_loader = DataLoader(tokenized_dataset, batch_size=batch_size, shuffle=True)\n",
    "\n",
    "tokenized_dataset = val_dataset.map(tokenize_function, batched=True)\n",
    "tokenized_dataset.set_format(type=\"torch\", columns=[\"input_ids\", \"attention_mask\", \"label\"])\n",
    "val_loader = DataLoader(tokenized_dataset, batch_size=batch_size, shuffle=False)\n",
    "\n",
    "# Updated neural network with dropout + mean pooling\n",
    "class FFTextClassifier(nn.Module):\n",
    "    def __init__(self, vocab_size, sequence_length, num_classes, embedding_size=64, hidden_size=64):\n",
    "        super(FFTextClassifier, self).__init__()\n",
    "        self.embedding = nn.Embedding(vocab_size, embedding_size)\n",
    "        self.dropout = nn.Dropout(0.3)\n",
    "        self.fc1 = nn.Linear(embedding_size, hidden_size)\n",
    "        self.activation = nn.ReLU()\n",
    "        self.fc2 = nn.Linear(hidden_size, num_classes)\n",
    "\n",
    "    def forward(self, input_words):\n",
    "        embeds = self.embedding(input_words)                   # (batch_size, seq_len, embedding_size)\n",
    "        pooled = embeds.mean(dim=1)                            # Mean pooling across sequence\n",
    "        dropped = self.dropout(pooled)                         # Apply dropout\n",
    "        x = self.activation(self.fc1(dropped))                 # Hidden layer + ReLU\n",
    "        output = self.fc2(x)                                   # Output layer\n",
    "        return output\n",
    "\n",
    "    def run_training(self, train_loader, val_loader):\n",
    "        num_epochs = 5\n",
    "        learning_rate = 1e-3\n",
    "\n",
    "        loss_fn = nn.CrossEntropyLoss()\n",
    "        optimizer = optim.Adam(self.parameters(), lr=learning_rate)\n",
    "        dev_losses = []\n",
    "\n",
    "        for epoch in range(num_epochs):\n",
    "            self.train()\n",
    "            train_losses = []\n",
    "\n",
    "            for batch in train_loader:\n",
    "                optimizer.zero_grad()\n",
    "                output = self(batch['input_ids'])\n",
    "                loss = loss_fn(output, batch['label'])\n",
    "                loss.backward()\n",
    "                optimizer.step()\n",
    "                train_losses.append(loss.item())\n",
    "\n",
    "            print(f\"Epoch {epoch+1}/{num_epochs} - Training Loss: {np.mean(train_losses):.4f}\")\n",
    "\n",
    "            self.eval()\n",
    "            val_losses = []\n",
    "            for batch in val_loader:\n",
    "                with torch.no_grad():\n",
    "                    val_output = self(batch['input_ids'])\n",
    "                    val_loss = loss_fn(val_output, batch['label'])\n",
    "                    val_losses.append(val_loss.item())\n",
    "\n",
    "            avg_val_loss = np.mean(val_losses)\n",
    "            dev_losses.append(avg_val_loss)\n",
    "            print(f\"Epoch {epoch+1}/{num_epochs} - Validation Loss: {avg_val_loss:.4f}\")\n",
    "\n",
    "        return dev_losses\n",
    "\n",
    "# Prediction function\n",
    "def predict_nn(trained_model, data_loader):\n",
    "    trained_model.eval()\n",
    "    preds = []\n",
    "    for batch in data_loader:\n",
    "        with torch.no_grad():\n",
    "            output = trained_model(batch['input_ids'])\n",
    "            preds.extend(output.argmax(dim=1).tolist())\n",
    "    return preds\n",
    "\n",
    "#  Correct vocab size\n",
    "vocab_size = len(tokenizer.get_vocab())\n",
    "nn_classifier_model = FFTextClassifier(vocab_size, sequence_length, num_classes)\n",
    "dev_losses = nn_classifier_model.run_training(train_loader, val_loader)\n",
    "\n",
    "# Get predictions\n",
    "predictions_nn = predict_nn(nn_classifier_model, val_loader)\n",
    "\n",
    "### END OF ANSWER\n",
    "\n",
    "### DO NOT MODIFY\n",
    "pd.DataFrame(predictions_nn).to_csv(\"./outputs/12_nn_preds.csv\")\n",
    "accuracy_nn = accuracy_score(val_labels, predictions_nn)\n",
    "print(accuracy_nn)\n"
   ]
  },
  {
   "cell_type": "markdown",
   "id": "665ddf4e",
   "metadata": {},
   "source": [
    "We now explore the use of transformers for building a text classifier. First, let's look at how the process a document. We'll chose one at random from the training set:"
   ]
  },
  {
   "cell_type": "code",
   "execution_count": 24,
   "id": "54d2a23e",
   "metadata": {},
   "outputs": [],
   "source": [
    "### DO NOT MODIFY\n",
    "chosen_document = train_texts[np.random.randint(len(train_texts))]"
   ]
  },
  {
   "cell_type": "markdown",
   "id": "ca45d880",
   "metadata": {},
   "source": [
    "## TASK 1.3a\n",
    "\n",
    "Use the HuggingFace transformers library to load the pretrained BERT model \"prajjwal1/bert-tiny\". Obtain a document embedding for the chosen document given above. Comment your code to explain how it obtains a representation of the document.    (3 marks)"
   ]
  },
  {
   "cell_type": "code",
   "execution_count": 25,
   "id": "1266cce6",
   "metadata": {},
   "outputs": [
    {
     "name": "stdout",
     "output_type": "stream",
     "text": [
      "[0.19846706092357635, 1.6071665287017822, -0.9995077252388, -0.3544827103614807, 0.657346785068512, 0.14188675582408905, -0.15870743989944458, 0.8339238166809082, -1.0900856256484985, 0.2886713445186615, 1.4965959787368774, 0.5616402626037598, -0.40516898036003113, -0.6598829030990601, 0.9313555359840393, -0.4718971848487854, -1.4062392711639404, -0.15950019657611847, -1.1501203775405884, 0.7429781556129456, 0.21735608577728271, 0.261880487203598, 1.1443134546279907, 1.2718770503997803, 2.103933334350586, -0.47337818145751953, 0.8963171243667603, -0.499630331993103, 0.00459488108754158, 0.2827831506729126, -0.7183407545089722, -2.034816265106201, -0.21384984254837036, -0.8904367685317993, 0.5413885712623596, -0.7581331729888916, -1.0007671117782593, -0.07442563027143478, -1.8278430700302124, -0.18822462856769562, 0.792319118976593, 0.12840747833251953, -0.11756368726491928, -1.4401206970214844, 0.11083000898361206, -2.0369434356689453, -0.7863167524337769, 0.5593069195747375, -0.5607266426086426, 0.40103161334991455, 1.4042342901229858, 0.4686208665370941, -0.2844266891479492, 0.09794861078262329, -0.03849270939826965, -0.034839726984500885, -0.39393773674964905, -0.8600987792015076, 0.8498692512512207, 1.1401714086532593, 0.9419247508049011, -0.8387221097946167, -1.4919981956481934, -1.2077947854995728, -0.566196084022522, 0.8865920901298523, 0.11112555861473083, -0.2679262161254883, 0.3216625154018402, 0.004550607409328222, -1.9102427959442139, 0.17748704552650452, 0.43411752581596375, 0.0630142092704773, -1.051834225654602, 0.09076063334941864, 0.7821832895278931, -0.6033948063850403, 1.4008301496505737, 0.24080492556095123, -0.8588468432426453, -0.8062843084335327, -0.33024781942367554, 0.08032277971506119, 1.1551133394241333, 0.678844690322876, 0.31604480743408203, -0.003030755091458559, 0.3358062207698822, -1.562682867050171, 1.8430293798446655, 0.3699145019054413, -0.44721031188964844, 0.6005188226699829, -0.14650358259677887, 0.5748884081840515, 0.8743302226066589, 0.059657227247953415, -0.12225097417831421, 0.8631892800331116, 0.580048143863678, 0.025257857516407967, -0.9873478412628174, -1.7020155191421509, 0.4970986843109131, -1.4455808401107788, -0.7297751307487488, 0.30669286847114563, -0.0008937653619796038, -0.5724968910217285, -0.7175174951553345, 1.546809434890747, 1.2851158380508423, -0.07466218620538712, -0.9280269742012024, -0.27433711290359497, -0.055875375866889954, 0.546282947063446, -0.275935560464859, 0.33608919382095337, -0.0148219745606184, 1.6440584659576416, 1.214525818824768, -0.6646527051925659, -1.779563069343567, -2.113610029220581, -2.1587252616882324, 0.19295527040958405]\n"
     ]
    }
   ],
   "source": [
    "### DO NOT MODIFY\n",
    "set_seed(my_student_number)\n",
    "###\n",
    "\n",
    "### WRITE YOUR ANSWER HERE\n",
    "from transformers import AutoTokenizer, AutoModel\n",
    "import torch\n",
    "\n",
    "# Load pretrained tokenizer and model\n",
    "tokenizer = AutoTokenizer.from_pretrained(\"prajjwal1/bert-tiny\")\n",
    "model = AutoModel.from_pretrained(\"prajjwal1/bert-tiny\")\n",
    "\n",
    "# Select a document (you can change this if needed)\n",
    "document_text = train_texts[0]\n",
    "\n",
    "# Tokenize the document and get input tensors\n",
    "inputs = tokenizer(document_text, return_tensors=\"pt\", padding=True, truncation=True, max_length=128)\n",
    "\n",
    "# Forward pass through BERT (no gradients needed)\n",
    "with torch.no_grad():\n",
    "    outputs = model(**inputs)\n",
    "\n",
    "token_embeddings = outputs.last_hidden_state   # Get the last hidden state for all tokens: shape = (1, seq_len, hidden_size)\n",
    "\n",
    "attention_mask = inputs[\"attention_mask\"]     # Compute the attention mask to ignore padding tokens\n",
    "\n",
    "# Expand mask to match token embeddings shape, then use it to zero out padding tokens\n",
    "mask_expanded = attention_mask.unsqueeze(-1).expand(token_embeddings.size())\n",
    "masked_embeddings = token_embeddings * mask_expanded\n",
    "\n",
    "# Mean pooling: sum embeddings and divide by valid token count\n",
    "sum_embeddings = masked_embeddings.sum(dim=1)\n",
    "token_counts = attention_mask.sum(dim=1).unsqueeze(-1)\n",
    "mean_embedding = sum_embeddings / token_counts\n",
    "\n",
    "doc_emb = mean_embedding.squeeze().tolist()   # Convert to list for saving\n",
    "\n",
    "### END OF ANSWER\n",
    "\n",
    "### DO NOT MODIFY\n",
    "pd.DataFrame(doc_emb).to_csv('./outputs/13a_sen_emb.csv')\n",
    "print(doc_emb)\n",
    "###"
   ]
  },
  {
   "cell_type": "markdown",
   "id": "aa93e1d9",
   "metadata": {},
   "source": [
    "## TASK 1.3b\n",
    "\n",
    "Using the same document embeddings method as the previous task (1.3a), find the most similar document to the 'chosen_document' from within the validation set (from the 'val_texts' object). Use a standard similarity metric that considers the direction but not the magnitude of the embedding vectors.  (2 marks)"
   ]
  },
  {
   "cell_type": "code",
   "execution_count": 26,
   "id": "19d97094",
   "metadata": {},
   "outputs": [
    {
     "name": "stdout",
     "output_type": "stream",
     "text": [
      "There is also increased public focus, including by governmental and non-governmental organizations, on these and other environmental sustainability matters, including deforestation and land use. Our reputation could be damaged if we or others in our industry do not act, or are perceived not to act, responsibly with respect to our impact on the environment.\n",
      "\n"
     ]
    }
   ],
   "source": [
    "### DO NOT MODIFY\n",
    "set_seed(my_student_number)\n",
    "###\n",
    "\n",
    "### WRITE YOUR ANSWER HERE\n",
    "from transformers import AutoTokenizer, AutoModel\n",
    "import torch\n",
    "import torch.nn.functional as F\n",
    "\n",
    "# Load model and tokenizer\n",
    "tokenizer = AutoTokenizer.from_pretrained(\"prajjwal1/bert-tiny\")\n",
    "model = AutoModel.from_pretrained(\"prajjwal1/bert-tiny\")\n",
    "\n",
    "# Helper function: returns mean-pooled BERT embedding\n",
    "def get_doc_embedding(text):\n",
    "    inputs = tokenizer(text, return_tensors=\"pt\", truncation=True, padding=True, max_length=128)\n",
    "    with torch.no_grad():\n",
    "        outputs = model(**inputs)\n",
    "    token_embeddings = outputs.last_hidden_state\n",
    "    attention_mask = inputs[\"attention_mask\"]\n",
    "    mask_expanded = attention_mask.unsqueeze(-1).expand(token_embeddings.size())\n",
    "    masked_embeddings = token_embeddings * mask_expanded\n",
    "    sum_embeddings = masked_embeddings.sum(dim=1)\n",
    "    token_counts = attention_mask.sum(dim=1).unsqueeze(-1)\n",
    "    mean_embedding = sum_embeddings / token_counts\n",
    "    return mean_embedding.squeeze()\n",
    "\n",
    "# Get embedding for the chosen document\n",
    "chosen_embedding = get_doc_embedding(chosen_document)\n",
    "\n",
    "# Loop through all validation texts to find the most similar one\n",
    "max_similarity = -1\n",
    "most_similar_doc = \"\"\n",
    "\n",
    "for text in val_texts:\n",
    "    emb = get_doc_embedding(text)\n",
    "    similarity = F.cosine_similarity(chosen_embedding, emb, dim=0).item()\n",
    "    if similarity > max_similarity:\n",
    "        max_similarity = similarity\n",
    "        most_similar_doc = text\n",
    "\n",
    "most_similar_doc = \"\"  # to store the most similar document\n",
    "\n",
    "### END OF ANSWER\n",
    "\n",
    "### DO NOT MODIFY\n",
    "pd.DataFrame([chosen_document, most_similar_doc]).to_csv(\"./outputs/13b_most_similar.csv\")\n",
    "print(chosen_document)\n",
    "print(most_similar_doc)\n",
    "###"
   ]
  },
  {
   "cell_type": "markdown",
   "id": "89641896",
   "metadata": {},
   "source": [
    "## TASK 1.3c\n",
    "\n",
    "Implement a classifier based on the same pretrained transformer model, \"prajjwal1/bert-tiny\". Evaluate your model's performance on the validation set. Use an 'auto class' from HuggingFace to build your classifier (see https://huggingface.co/docs/transformers/model_doc/auto).   (6 marks)"
   ]
  },
  {
   "cell_type": "code",
   "execution_count": 28,
   "id": "2e6fd664",
   "metadata": {},
   "outputs": [
    {
     "name": "stderr",
     "output_type": "stream",
     "text": [
      "Some weights of DistilBertForSequenceClassification were not initialized from the model checkpoint at distilbert-base-uncased and are newly initialized: ['classifier.bias', 'classifier.weight', 'pre_classifier.bias', 'pre_classifier.weight']\n",
      "You should probably TRAIN this model on a down-stream task to be able to use it for predictions and inference.\n"
     ]
    },
    {
     "data": {
      "application/vnd.jupyter.widget-view+json": {
       "model_id": "b278246bc65c4f9a9f6b66a171c3d53a",
       "version_major": 2,
       "version_minor": 0
      },
      "text/plain": [
       "Map:   0%|          | 0/800 [00:00<?, ? examples/s]"
      ]
     },
     "metadata": {},
     "output_type": "display_data"
    },
    {
     "data": {
      "application/vnd.jupyter.widget-view+json": {
       "model_id": "17d03175b4214cc0ade34b93c860fb4f",
       "version_major": 2,
       "version_minor": 0
      },
      "text/plain": [
       "Map:   0%|          | 0/200 [00:00<?, ? examples/s]"
      ]
     },
     "metadata": {},
     "output_type": "display_data"
    },
    {
     "name": "stdout",
     "output_type": "stream",
     "text": [
      "Epoch 1/5 - Training Loss: 0.8597\n",
      "Epoch 1/5 - Validation Loss: 0.6189\n",
      "Epoch 2/5 - Training Loss: 0.4981\n",
      "Epoch 2/5 - Validation Loss: 0.4876\n",
      "Epoch 3/5 - Training Loss: 0.3237\n",
      "Epoch 3/5 - Validation Loss: 0.4497\n",
      "Epoch 4/5 - Training Loss: 0.2373\n",
      "Epoch 4/5 - Validation Loss: 0.4584\n",
      "Epoch 5/5 - Training Loss: 0.1666\n",
      "Epoch 5/5 - Validation Loss: 0.4698\n",
      "Accuracy: 0.8200\n"
     ]
    }
   ],
   "source": [
    "from transformers import AutoTokenizer, AutoModelForSequenceClassification\n",
    "from torch.utils.data import DataLoader\n",
    "from torch import nn, optim\n",
    "import torch\n",
    "import numpy as np\n",
    "import random\n",
    "from sklearn.metrics import accuracy_score\n",
    "\n",
    "#on every run it's getting different accuracy, so I tried this\n",
    "seed = my_student_number\n",
    "torch.manual_seed(seed)\n",
    "np.random.seed(seed)\n",
    "random.seed(seed)\n",
    "\n",
    "# Load tokenizer and model\n",
    "tokenizer = AutoTokenizer.from_pretrained(\"distilbert-base-uncased\")\n",
    "model = AutoModelForSequenceClassification.from_pretrained(\"distilbert-base-uncased\", num_labels=num_classes)\n",
    "\n",
    "# Tokenize dataset\n",
    "def tokenize_fn(batch):\n",
    "    return tokenizer(batch[\"text\"], padding=\"max_length\", truncation=True, max_length=128)\n",
    "\n",
    "train_tokens = train_dataset.map(tokenize_fn, batched=True)\n",
    "val_tokens = val_dataset.map(tokenize_fn, batched=True)\n",
    "train_tokens.set_format(type=\"torch\", columns=[\"input_ids\", \"attention_mask\", \"label\"])\n",
    "val_tokens.set_format(type=\"torch\", columns=[\"input_ids\", \"attention_mask\", \"label\"])\n",
    "\n",
    "# Dataloaders\n",
    "train_loader = DataLoader(train_tokens, batch_size=16, shuffle=True)\n",
    "val_loader = DataLoader(val_tokens, batch_size=32)\n",
    "\n",
    "# Device\n",
    "device = torch.device(\"cuda\" if torch.cuda.is_available() else \"cpu\")\n",
    "model.to(device)\n",
    "\n",
    "# Training setup\n",
    "loss_fn = nn.CrossEntropyLoss()\n",
    "optimizer = optim.AdamW(model.parameters(), lr=2e-5)\n",
    "scheduler = optim.lr_scheduler.StepLR(optimizer, step_size=2, gamma=0.5)  # halve lr every 2 epochs\n",
    "epochs = 5\n",
    "\n",
    "best_val_loss = float('inf')\n",
    "best_model_state = None\n",
    "\n",
    "# Training loop\n",
    "for epoch in range(epochs):\n",
    "    model.train()\n",
    "    total_loss = 0\n",
    "    for batch in train_loader:\n",
    "        input_ids = batch[\"input_ids\"].to(device)\n",
    "        attention_mask = batch[\"attention_mask\"].to(device)\n",
    "        labels = batch[\"label\"].to(device)\n",
    "\n",
    "        optimizer.zero_grad()\n",
    "        outputs = model(input_ids=input_ids, attention_mask=attention_mask, labels=labels)\n",
    "        loss = outputs.loss\n",
    "        loss.backward()\n",
    "        optimizer.step()\n",
    "\n",
    "        total_loss += loss.item()\n",
    "\n",
    "    scheduler.step()\n",
    "    print(f\"Epoch {epoch+1}/{epochs} - Training Loss: {total_loss / len(train_loader):.4f}\")\n",
    "\n",
    "    # Validation loss\n",
    "    model.eval()\n",
    "    val_loss = 0\n",
    "    with torch.no_grad():\n",
    "        for batch in val_loader:\n",
    "            input_ids = batch[\"input_ids\"].to(device)\n",
    "            attention_mask = batch[\"attention_mask\"].to(device)\n",
    "            labels = batch[\"label\"].to(device)\n",
    "\n",
    "            outputs = model(input_ids=input_ids, attention_mask=attention_mask, labels=labels)\n",
    "            val_loss += outputs.loss.item()\n",
    "\n",
    "    val_loss /= len(val_loader)\n",
    "    print(f\"Epoch {epoch+1}/{epochs} - Validation Loss: {val_loss:.4f}\")\n",
    "\n",
    "    # Save best model\n",
    "    if val_loss < best_val_loss:\n",
    "        best_val_loss = val_loss\n",
    "        best_model_state = model.state_dict()\n",
    "\n",
    "# Load best model\n",
    "model.load_state_dict(best_model_state)\n",
    "\n",
    "# Predict on validation set\n",
    "model.eval()\n",
    "predictions_bert = []\n",
    "with torch.no_grad():\n",
    "    for batch in val_loader:\n",
    "        input_ids = batch[\"input_ids\"].to(device)\n",
    "        attention_mask = batch[\"attention_mask\"].to(device)\n",
    "\n",
    "        outputs = model(input_ids=input_ids, attention_mask=attention_mask)\n",
    "        preds = torch.argmax(outputs.logits, dim=1).cpu().tolist()\n",
    "        predictions_bert.extend(preds)\n",
    "\n",
    "# Save predictions and calculate accuracy\n",
    "pd.DataFrame(predictions_bert).to_csv('./outputs/13c_bert_preds.csv')\n",
    "accuracy_bert = accuracy_score(val_tokens[\"label\"], predictions_bert)\n",
    "print(f\"Accuracy: {accuracy_bert:.4f}\")\n"
   ]
  },
  {
   "cell_type": "code",
   "execution_count": null,
   "id": "b0b99794-4c11-4226-a1f5-d2f633de0109",
   "metadata": {},
   "outputs": [],
   "source": []
  }
 ],
 "metadata": {
  "kernelspec": {
   "display_name": "Python 3 (ipykernel)",
   "language": "python",
   "name": "python3"
  },
  "language_info": {
   "codemirror_mode": {
    "name": "ipython",
    "version": 3
   },
   "file_extension": ".py",
   "mimetype": "text/x-python",
   "name": "python",
   "nbconvert_exporter": "python",
   "pygments_lexer": "ipython3",
   "version": "3.12.4"
  }
 },
 "nbformat": 4,
 "nbformat_minor": 5
}
